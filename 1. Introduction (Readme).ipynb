{
 "cells": [
  {
   "cell_type": "markdown",
   "metadata": {},
   "source": [
    "# Kravitz Lab Coherence Plots\n",
    "\n",
    "[OSF.io](https://osf.io/udzn7/)<br>\n",
    "*Created : January 31st, 2020*\n",
    "\n",
    "This folder of notebooks will document and explain the Python code we wrote to explore and visualize coherence data recorded from our implanted animals.  It was created to be hosted on OSF.io, under our project: [Visualizing brain connectivity with multi-site local field potential recordings](https://osf.io/udzn7/)."
   ]
  },
  {
   "cell_type": "markdown",
   "metadata": {},
   "source": [
    "## Note on viewing & running notebooks\n",
    "While OSF.io can display notebooks, they cannot be run.  However, this should not disrupt the viewing of plots.\n",
    "\n",
    "To be able to run code & interact with the notebook and referenced data, we recommend downloading the zipped file `Jupter Notebooks.zip` and opening the notebooks in your own Jupyter Notebook environment."
   ]
  },
  {
   "cell_type": "markdown",
   "metadata": {},
   "source": [
    "Each notebook will demonstrate one type of visualization and highlight the code used to make it.  All our analyses & visualizations involve two major steps:\n",
    "1. Extract coherence data from NeuroExplorer\n",
    "2. Work on coherence data in another Python environment.\n",
    "\n",
    "For the first step, we made custom NeuroExplorer templates and scripts which output coherence data in a format compatible with our Python code.  These files have been uploaded in the `nex templates` and `nex scripts` folder, and **they will need to be placed in your NeuroExplorer Templates and Scripts folders, respectively** (default: `Documents/NeuroExplorer 5/Templates` and `Documents/NeuroExplorer 5/Scripts`).  Each notebook will briefly explain the processing done in NeuroExplorer to export the appropriate data for each plot.  For the purposes of demonstration, these notebooks will use some of our real pilot data which has been uploaded in the folder `exampledata`.\n",
    "\n",
    "Secondly, we wrote Python scripts for plotting the data, mostly building off of commonly available packages.  All of the code is contained in the uploaded `coherence.py` file, and all notebooks will import functions and classes from this file using:"
   ]
  },
  {
   "cell_type": "code",
   "execution_count": 1,
   "metadata": {},
   "outputs": [],
   "source": [
    "import coherence as co"
   ]
  },
  {
   "cell_type": "markdown",
   "metadata": {},
   "source": [
    "The above will work if `coherence.py` is in the same working directory as your Python session or if `coherence.py` has been added to your `PYTHONPATH`.  You can point your session to `coherence.py` manually by calling the following at the start of your script:"
   ]
  },
  {
   "cell_type": "code",
   "execution_count": 2,
   "metadata": {},
   "outputs": [],
   "source": [
    "directory = r'/your/directory/' #name of the directory where `coherence.py` lives\n",
    "\n",
    "import sys\n",
    "sys.path.append(directory)\n",
    "\n",
    "#this only needs to be run once at the start of each session"
   ]
  },
  {
   "cell_type": "markdown",
   "metadata": {},
   "source": [
    "All code was written in NeuroExplorer 5.125 & Python 3.7 (using the Anaconda distribution).  The required package versions are included in the `requirements.txt` file (which can be installed using `pip` in a virtual environment)."
   ]
  },
  {
   "cell_type": "markdown",
   "metadata": {},
   "source": [
    "# Updates/Bugs\n",
    "\n",
    "As this code has mostly been used by a couple members of the Kravitz lab using only a few computers, it is very likely that there are bugs.  Additionally, there is potential for additional functionalities to be added to our plotting scripts.  Each notebook will end with an \"Updates/Bugs\" section, which will address and log changes to any of our code.  \n",
    "\n",
    "If you detect any issues or have questions about any of the code, you can email earnestt1234@gmail.com.*\n",
    "\n",
    "\\**I have come to learn that this code is not very [\"Pythonic\"](https://blog.startifact.com/posts/older/what-is-pythonic.html) and also doesn't adhere to many PEP 8 conventions (something I am trying to improve upon in my future scripting!)*"
   ]
  }
 ],
 "metadata": {
  "kernelspec": {
   "display_name": "Python 3",
   "language": "python",
   "name": "python3"
  },
  "language_info": {
   "codemirror_mode": {
    "name": "ipython",
    "version": 3
   },
   "file_extension": ".py",
   "mimetype": "text/x-python",
   "name": "python",
   "nbconvert_exporter": "python",
   "pygments_lexer": "ipython3",
   "version": "3.7.4"
  }
 },
 "nbformat": 4,
 "nbformat_minor": 2
}
